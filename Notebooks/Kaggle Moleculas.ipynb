{
 "cells": [
  {
   "cell_type": "code",
   "execution_count": 6,
   "metadata": {},
   "outputs": [],
   "source": [
    "import pandas as pd\n",
    "import keras\n",
    "import numpy as np\n",
    "import matplotlib\n"
   ]
  },
  {
   "cell_type": "code",
   "execution_count": 7,
   "metadata": {},
   "outputs": [],
   "source": [
    "location='../data/'\n",
    "\n",
    "dipolesFile= location + 'dipole_moments.csv'\n",
    "magneticShieldingFile= location + 'magnetic_shielding_tensors.csv'\n",
    "mullikenFile= location + 'mulliken_charges.csv'\n",
    "potentialEnergyFile= location + 'potential_energy.csv'\n",
    "sampleFile= location + 'sample_submission.csv'\n",
    "scalarCouplingFile= location + 'scalar_coupling_contributions.csv'\n",
    "structuresFile= location + 'structures.csv'\n",
    "testFile= location + 'test.csv'\n",
    "trainFile= location + 'train.csv'\n",
    "#File= location + '.csv'\n",
    "#File= location + '.csv'"
   ]
  },
  {
   "cell_type": "code",
   "execution_count": 10,
   "metadata": {},
   "outputs": [],
   "source": [
    "dipoles=pd.read_csv(dipolesFile)\n",
    "magneticShielding=pd.read_csv(magneticShieldingFile)\n",
    "mulliken=pd.read_csv(mullikenFile)\n",
    "potentialEnergy=pd.read_csv(potentialEnergyFile)\n",
    "sample=pd.read_csv(sampleFile)\n",
    "scalarCoupling=pd.read_csv(scalarCouplingFile)\n",
    "structures=pd.read_csv(structuresFile)\n",
    "test=pd.read_csv(testFile)\n",
    "train=pd.read_csv(trainFile)"
   ]
  },
  {
   "cell_type": "code",
   "execution_count": 20,
   "metadata": {},
   "outputs": [],
   "source": [
    "#test.info #2505542\n",
    "#train.info #4658147"
   ]
  },
  {
   "cell_type": "markdown",
   "metadata": {},
   "source": [
    "# Feature Engineering"
   ]
  },
  {
   "cell_type": "markdown",
   "metadata": {},
   "source": [
    "### Dipoles"
   ]
  },
  {
   "cell_type": "code",
   "execution_count": 25,
   "metadata": {},
   "outputs": [],
   "source": [
    "dipoles['polar']=((dipoles['X']==0) & (dipoles['Y']==0) & (dipoles['Z']==0))"
   ]
  },
  {
   "cell_type": "code",
   "execution_count": 31,
   "metadata": {},
   "outputs": [
    {
     "data": {
      "text/html": [
       "<div>\n",
       "<style scoped>\n",
       "    .dataframe tbody tr th:only-of-type {\n",
       "        vertical-align: middle;\n",
       "    }\n",
       "\n",
       "    .dataframe tbody tr th {\n",
       "        vertical-align: top;\n",
       "    }\n",
       "\n",
       "    .dataframe thead th {\n",
       "        text-align: right;\n",
       "    }\n",
       "</style>\n",
       "<table border=\"1\" class=\"dataframe\">\n",
       "  <thead>\n",
       "    <tr style=\"text-align: right;\">\n",
       "      <th></th>\n",
       "      <th>X</th>\n",
       "      <th>Y</th>\n",
       "      <th>Z</th>\n",
       "    </tr>\n",
       "  </thead>\n",
       "  <tbody>\n",
       "    <tr>\n",
       "      <th>count</th>\n",
       "      <td>85003.000000</td>\n",
       "      <td>85003.000000</td>\n",
       "      <td>85003.000000</td>\n",
       "    </tr>\n",
       "    <tr>\n",
       "      <th>mean</th>\n",
       "      <td>-0.019937</td>\n",
       "      <td>0.093764</td>\n",
       "      <td>0.252982</td>\n",
       "    </tr>\n",
       "    <tr>\n",
       "      <th>std</th>\n",
       "      <td>2.283738</td>\n",
       "      <td>1.739395</td>\n",
       "      <td>1.027573</td>\n",
       "    </tr>\n",
       "    <tr>\n",
       "      <th>min</th>\n",
       "      <td>-22.958000</td>\n",
       "      <td>-9.252300</td>\n",
       "      <td>-6.028500</td>\n",
       "    </tr>\n",
       "    <tr>\n",
       "      <th>25%</th>\n",
       "      <td>-1.363250</td>\n",
       "      <td>-0.941950</td>\n",
       "      <td>-0.247750</td>\n",
       "    </tr>\n",
       "    <tr>\n",
       "      <th>50%</th>\n",
       "      <td>-0.000100</td>\n",
       "      <td>0.081400</td>\n",
       "      <td>0.117600</td>\n",
       "    </tr>\n",
       "    <tr>\n",
       "      <th>75%</th>\n",
       "      <td>1.311000</td>\n",
       "      <td>1.166750</td>\n",
       "      <td>0.902050</td>\n",
       "    </tr>\n",
       "    <tr>\n",
       "      <th>max</th>\n",
       "      <td>21.873800</td>\n",
       "      <td>13.005600</td>\n",
       "      <td>6.880100</td>\n",
       "    </tr>\n",
       "  </tbody>\n",
       "</table>\n",
       "</div>"
      ],
      "text/plain": [
       "                  X             Y             Z\n",
       "count  85003.000000  85003.000000  85003.000000\n",
       "mean      -0.019937      0.093764      0.252982\n",
       "std        2.283738      1.739395      1.027573\n",
       "min      -22.958000     -9.252300     -6.028500\n",
       "25%       -1.363250     -0.941950     -0.247750\n",
       "50%       -0.000100      0.081400      0.117600\n",
       "75%        1.311000      1.166750      0.902050\n",
       "max       21.873800     13.005600      6.880100"
      ]
     },
     "execution_count": 31,
     "metadata": {},
     "output_type": "execute_result"
    }
   ],
   "source": [
    "dipoles.describe()"
   ]
  },
  {
   "cell_type": "code",
   "execution_count": null,
   "metadata": {},
   "outputs": [],
   "source": []
  },
  {
   "cell_type": "code",
   "execution_count": null,
   "metadata": {},
   "outputs": [],
   "source": []
  },
  {
   "cell_type": "code",
   "execution_count": null,
   "metadata": {},
   "outputs": [],
   "source": []
  },
  {
   "cell_type": "code",
   "execution_count": null,
   "metadata": {},
   "outputs": [],
   "source": []
  },
  {
   "cell_type": "code",
   "execution_count": null,
   "metadata": {},
   "outputs": [],
   "source": []
  },
  {
   "cell_type": "code",
   "execution_count": null,
   "metadata": {},
   "outputs": [],
   "source": []
  },
  {
   "cell_type": "code",
   "execution_count": null,
   "metadata": {},
   "outputs": [],
   "source": []
  },
  {
   "cell_type": "code",
   "execution_count": null,
   "metadata": {},
   "outputs": [],
   "source": []
  },
  {
   "cell_type": "code",
   "execution_count": null,
   "metadata": {},
   "outputs": [],
   "source": []
  }
 ],
 "metadata": {
  "kernelspec": {
   "display_name": "Python 3",
   "language": "python",
   "name": "python3"
  },
  "language_info": {
   "codemirror_mode": {
    "name": "ipython",
    "version": 3
   },
   "file_extension": ".py",
   "mimetype": "text/x-python",
   "name": "python",
   "nbconvert_exporter": "python",
   "pygments_lexer": "ipython3",
   "version": "3.6.8"
  }
 },
 "nbformat": 4,
 "nbformat_minor": 2
}
